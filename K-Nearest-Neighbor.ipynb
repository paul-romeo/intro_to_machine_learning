{
 "metadata": {
  "language_info": {
   "codemirror_mode": {
    "name": "ipython",
    "version": 3
   },
   "file_extension": ".py",
   "mimetype": "text/x-python",
   "name": "python",
   "nbconvert_exporter": "python",
   "pygments_lexer": "ipython3",
   "version": "3.8.5"
  },
  "orig_nbformat": 2,
  "kernelspec": {
   "name": "python38564bitb7a15ca74f72451c945c2980c2516e34",
   "display_name": "Python 3.8.5 64-bit",
   "language": "python"
  }
 },
 "nbformat": 4,
 "nbformat_minor": 2,
 "cells": [
  {
   "source": [
    "## Quick look at the iris_dataset"
   ],
   "cell_type": "markdown",
   "metadata": {}
  },
  {
   "cell_type": "code",
   "execution_count": 7,
   "metadata": {},
   "outputs": [],
   "source": [
    "from sklearn.neighbors import KNeighborsClassifier\n",
    "import numpy as np\n",
    "from sklearn.model_selection import train_test_split\n",
    "from sklearn import datasets\n",
    "\n",
    "# Split the iris_dataset into training data set(X_train: input, y_train: output), and test data set where X_test: input, y_test: output \n",
    "\n",
    "iris_dataset = datasets.load_iris()\n",
    "X = iris_dataset.data\n",
    "y = iris_dataset.target\n",
    "\n",
    "X_train, X_test, y_train, y_test = train_test_split(X, y, random_state=0)"
   ]
  },
  {
   "cell_type": "code",
   "execution_count": 11,
   "metadata": {},
   "outputs": [
    {
     "output_type": "stream",
     "name": "stdout",
     "text": [
      "Target names (the names of the 3 classes):['setosa' 'versicolor' 'virginica']\n\nFeature names (4 parameters of each row of X_train, X_test data):\n['sepal length (cm)', 'sepal width (cm)', 'petal length (cm)', 'petal width (cm)']\n\nTRAINING DATA...\n1. X_train data:\n [[5.9 3.  4.2 1.5]\n [5.8 2.6 4.  1.2]\n [6.8 3.  5.5 2.1]\n [4.7 3.2 1.3 0.2]\n [6.9 3.1 5.1 2.3]]\n\n2. y_train data (= 0, 1, or 2 which is associated to the above target names):\n [1 1 2 0 2]\n\nTESTING DATA...\n1. X_test data:\n [[5.8 2.8 5.1 2.4]\n [6.  2.2 4.  1. ]\n [5.5 4.2 1.4 0.2]\n [7.3 2.9 6.3 1.8]\n [5.  3.4 1.5 0.2]]\n\n2. y_test data (= 0, 1, or 2 which is associated to the above target names):\n [2 1 0 2 0 2 0 1 1 1 2 1 1 1 1 0 1 1 0 0 2 1 0 0 2 0 0 1 1 0 2 1 0 2 2 1 0\n 1]\n"
     ]
    }
   ],
   "source": [
    "# The target names of iris data \n",
    "print(\"Target names (the names of the 3 classes):{}\".format(iris_dataset[\"target_names\"]))\n",
    "print()\n",
    "# The feature names of the iris data \n",
    "print(\"Feature names (4 parameters of each row of X_train, X_test data):\\n{}\".format(iris_dataset[\"feature_names\"]))\n",
    "print()\n",
    "\n",
    "# Display data for the training data: X_train and y_train. y_train = f(X_train)\n",
    "print(\"TRAINING DATA...\")\n",
    "print(\"1. X_train data:\\n\", X_train[:5])\n",
    "print()\n",
    "print(\"2. y_train data (= 0, 1, or 2 which is associated to the above target names):\\n\", y_train[:5])\n",
    "print()\n",
    "\n",
    "# Display data for the testing data: X_test, y_test. Note: y_test = f(X_test)\n",
    "print(\"TESTING DATA...\")\n",
    "print(\"1. X_test data:\\n\", X_test[:5])\n",
    "print()\n",
    "print(\"2. y_test data (= 0, 1, or 2 which is associated to the above target names):\\n\", y_test)"
   ]
  },
  {
   "source": [
    "## K-Nearest-Neighbors (KNN):\n",
    "<li>Build the training data set\n",
    "<li>Make a prediction on an input\n",
    "<li>Evaluate the model\n"
   ],
   "cell_type": "markdown",
   "metadata": {}
  },
  {
   "cell_type": "code",
   "execution_count": null,
   "metadata": {},
   "outputs": [],
   "source": []
  },
  {
   "cell_type": "code",
   "execution_count": 13,
   "metadata": {},
   "outputs": [
    {
     "output_type": "stream",
     "name": "stdout",
     "text": [
      "X_new (an unknown iris flower) shape:(1, 4)\nPrediction (class):[0]\nPredicted target name:['setosa']\n\nTest set score using the np.mean method:0.97\nTest set score using the knn.score method:0.97\n"
     ]
    }
   ],
   "source": [
    "knn = KNeighborsClassifier(n_neighbors=1)\n",
    "\n",
    "# Build the training set \n",
    "knn.fit(X_train, y_train)\n",
    "\n",
    "# Input X_new in numpy format with unknown iris with sepal length, sepal width, petal length, and petal width. Note: sepal is the green part of the iris and petal the flower part of the iris \n",
    "X_new = np.array([[5, 2.9, 1, 0.2]])\n",
    "print(\"X_new (an unknown iris flower) shape:{}\".format(X_new.shape))\n",
    "\n",
    "# Make a prediction of an unknown iris flower (X_new)\n",
    "prediction = knn.predict(X_new)\n",
    "print(\"Prediction (class):{}\".format(prediction))\n",
    "# print(\"Predicted target name:{}\".format(iris_dataset[\"target_names\"][prediction]))\n",
    "print(\"Predicted target name:{}\".format(iris_dataset.target_names[prediction]))\n",
    "print()\n",
    "\n",
    "# Predict 38 testing data set (38 flowers)\n",
    "y_pred = knn.predict(X_test)\n",
    "\n",
    "# Evaluate the model of 38 testing data \n",
    "# One way to determine the test score by using the numpy.mean \n",
    "print(\"Test set score using the np.mean method:{:.2f}\".format(np.mean(y_pred == y_test)))\n",
    "\n",
    "# The other way to determine the test score (commonly used) by using the knn.score \n",
    "print(\"Test set score using the knn.score method:{:.2f}\".format(knn.score(X_test, y_test)))\n",
    "\n",
    "# Notes: results with an accuray of 97%. P.S. to improve for better performance, we need to tune the model "
   ]
  }
 ]
}