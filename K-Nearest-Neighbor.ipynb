{
 "metadata": {
  "language_info": {
   "codemirror_mode": {
    "name": "ipython",
    "version": 3
   },
   "file_extension": ".py",
   "mimetype": "text/x-python",
   "name": "python",
   "nbconvert_exporter": "python",
   "pygments_lexer": "ipython3",
   "version": "3.8.5"
  },
  "orig_nbformat": 2,
  "kernelspec": {
   "name": "python38564bitb7a15ca74f72451c945c2980c2516e34",
   "display_name": "Python 3.8.5 64-bit",
   "language": "python"
  }
 },
 "nbformat": 4,
 "nbformat_minor": 2,
 "cells": [
  {
   "source": [
    "## K-Nearest-Neighbors (KNN):\n",
    "<li>Build the training data set\n",
    "<li>Make a prediction on an input\n",
    "<li>Evaluate the model\n"
   ],
   "cell_type": "markdown",
   "metadata": {}
  },
  {
   "cell_type": "code",
   "execution_count": 1,
   "metadata": {},
   "outputs": [
    {
     "output_type": "stream",
     "name": "stdout",
     "text": [
      "X_new (an unknown iris flower) shape:(1, 4)\nPrediction (class):[0]\nPredicted target name:['setosa']\n\nTest set score using np.mean method:0.97\nTest set score using knn.score method:0.97\n"
     ]
    }
   ],
   "source": [
    "from sklearn.neighbors import KNeighborsClassifier\n",
    "import numpy as np\n",
    "from sklearn.model_selection import train_test_split\n",
    "from sklearn import datasets\n",
    "\n",
    "# Split the iris_dataset into training data set(X_train: input, y_train: output), and test data set where X_test: input, y_test: output \n",
    "\n",
    "iris_dataset = datasets.load_iris()\n",
    "X = iris_dataset.data\n",
    "y = iris_dataset.target\n",
    "\n",
    "X_train, X_test, y_train, y_test = train_test_split(X, y, random_state=0)\n",
    "\n",
    "knn = KNeighborsClassifier(n_neighbors=1)\n",
    "\n",
    "# Build the training set \n",
    "knn.fit(X_train, y_train)\n",
    "\n",
    "# input X_new in numpy format with unknown iris with sepal length, sepal width, petal length, and petal width. Note: sepal is the green part of the iris and petal the flower part of the iris \n",
    "X_new = np.array([[5, 2.9, 1, 0.2]])\n",
    "print(\"X_new (an unknown iris flower) shape:{}\".format(X_new.shape))\n",
    "\n",
    "# Make a prediction \n",
    "prediction = knn.predict(X_new)\n",
    "print(\"Prediction (class):{}\".format(prediction))\n",
    "# print(\"Predicted target name:{}\".format(iris_dataset[\"target_names\"][prediction]))\n",
    "print(\"Predicted target name:{}\".format(iris_dataset.target_names[prediction]))\n",
    "print()\n",
    "# Evaluate the model \n",
    "y_pred = knn.predict(X_test)\n",
    "\n",
    "# One way to display the test score \n",
    "print(\"Test set score using np.mean method:{:.2f}\".format(np.mean(y_pred == y_test)))\n",
    "\n",
    "# Another way to display the test score (commonly used)\n",
    "print(\"Test set score using knn.score method:{:.2f}\".format(knn.score(X_test, y_test)))\n",
    "\n",
    "# Notes: 97% accuracy. P.S. to improve for better performance, we need to tune the model "
   ]
  }
 ]
}